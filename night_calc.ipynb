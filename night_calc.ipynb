{
 "cells": [
  {
   "cell_type": "code",
   "execution_count": 1,
   "id": "ccd33409-2848-4807-a0b3-ea6b8e6b3754",
   "metadata": {},
   "outputs": [],
   "source": [
    "import warnings\n",
    "import astropy.units as u\n",
    "from zoneinfo import ZoneInfo\n",
    "from astropy.time import Time\n",
    "from astroplan import Observer\n",
    "from datetime import datetime, timezone\n",
    "from astropy.coordinates import EarthLocation, Angle\n",
    "\n",
    "# Remove warnings\n",
    "warnings.filterwarnings('ignore')\n",
    "\n",
    "# Observation night date\n",
    "observation_night = '2023-07-10'\n",
    "local_midnight = True"
   ]
  },
  {
   "cell_type": "code",
   "execution_count": 2,
   "id": "0581e0bb-32f4-4a3b-a573-2b348d895269",
   "metadata": {},
   "outputs": [],
   "source": [
    "# T80-South location info\n",
    "T80S_TZ = ZoneInfo('America/Santiago')\n",
    "UTC_TZ = timezone.utc\n",
    "T80S_LAT = '-30d10m04.31s'\n",
    "T80S_LON = '-70d48m20.48s'\n",
    "T80S_HEI = 2178\n",
    "t80s_lat = Angle(T80S_LAT, 'deg')\n",
    "t80s_lon = Angle(T80S_LON, 'deg')\n",
    "t80s_hei = T80S_HEI*u.m\n",
    "t80s_EL = EarthLocation(lat=t80s_lat, lon=t80s_lon, height=t80s_hei)\n",
    "\n",
    "# Date and time config\n",
    "dt_obs = datetime.fromisoformat(observation_night +' 23:59:59.000+00:00')\n",
    "t80s_dt = dt_obs.astimezone(T80S_TZ)\n",
    "t80s_Time = Time(t80s_dt - t80s_dt.utcoffset(), location=t80s_EL)\n",
    "\n",
    "# Observer at T80-South location\n",
    "t80s_obs = Observer(location=t80s_EL, timezone=T80S_TZ)\n",
    "\n",
    "# Nearest evening and morning twilights timestamp and LST \n",
    "twilight_morning = t80s_obs.twilight_morning_astronomical(t80s_Time, which='nearest')\n",
    "twilight_evening = t80s_obs.twilight_evening_astronomical(t80s_Time, which='nearest')\n",
    "lst_even = t80s_obs.local_sidereal_time(twilight_evening)\n",
    "lst_morn = t80s_obs.local_sidereal_time(twilight_morning)\n",
    "\n",
    "# Night duration (time between twilights)\n",
    "night_duration = (twilight_morning.datetime - twilight_evening.datetime).total_seconds()/3600\n",
    "\n",
    "# Moon at midnight\n",
    "if local_midnight:\n",
    "    Time_mn = t80s_Time\n",
    "else:\n",
    "    Time_mn = t80s_obs.midnight(t80s_Time)\n",
    "moon_illum = t80s_obs.moon_illumination(Time_mn)\n",
    "lst_mn = t80s_obs.local_sidereal_time(Time_mn)"
   ]
  },
  {
   "cell_type": "code",
   "execution_count": 3,
   "id": "a7ca698c-9617-411d-97ba-5eeebcf615cf",
   "metadata": {},
   "outputs": [
    {
     "name": "stdout",
     "output_type": "stream",
     "text": [
      "Evening twilight:\n",
      "\tDATETIME (UTC): 2023-07-10 23:22:57.405336\n",
      "\tLST: 13h54m13.43870452s\n",
      "Morning twilight:\n",
      "\tDATETIME (UTC): 2023-07-11 10:14:18.775815\n",
      "\tLST: 0h47m21.81025691s\n",
      "Using local midnight:\n",
      "\tMoon illumination: 0.3834\n"
     ]
    }
   ],
   "source": [
    "print(f'Evening twilight:')\n",
    "print(f'\\tDATETIME (UTC):', twilight_evening.datetime)\n",
    "print(f'\\tLST:', lst_even)\n",
    "print(f'Morning twilight:')\n",
    "print(f'\\tDATETIME (UTC):', twilight_morning.datetime)\n",
    "print(f'\\tLST:', lst_morn)\n",
    "if local_midnight:\n",
    "    print('Using local midnight:')\n",
    "else:\n",
    "    print(f'Sun midnight:')\n",
    "    print(f'\\tDATETIME (UTC):', Time_mn.datetime)\n",
    "    print(f'\\tLST:', lst_mn)\n",
    "print(f'\\tMoon illumination: {moon_illum:.4f}')"
   ]
  }
 ],
 "metadata": {
  "kernelspec": {
   "display_name": "Python 3 (ipykernel)",
   "language": "python",
   "name": "python3"
  },
  "language_info": {
   "codemirror_mode": {
    "name": "ipython",
    "version": 3
   },
   "file_extension": ".py",
   "mimetype": "text/x-python",
   "name": "python",
   "nbconvert_exporter": "python",
   "pygments_lexer": "ipython3",
   "version": "3.10.6"
  }
 },
 "nbformat": 4,
 "nbformat_minor": 5
}
