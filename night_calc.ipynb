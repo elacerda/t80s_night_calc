{
 "cells": [
  {
   "cell_type": "code",
   "execution_count": 1,
   "id": "ccd33409-2848-4807-a0b3-ea6b8e6b3754",
   "metadata": {},
   "outputs": [],
   "source": [
    "import warnings\n",
    "import astropy.units as u\n",
    "from zoneinfo import ZoneInfo\n",
    "from astropy.time import Time\n",
    "from astroplan import Observer\n",
    "from datetime import datetime, timezone\n",
    "from astropy.coordinates import EarthLocation, Angle\n",
    "\n",
    "warnings.filterwarnings('ignore')"
   ]
  },
  {
   "cell_type": "code",
   "execution_count": 2,
   "id": "5c433c3f-c52f-4c10-b168-cfd3a582451c",
   "metadata": {},
   "outputs": [],
   "source": [
    "observation_night = '2023-01-01'"
   ]
  },
  {
   "cell_type": "code",
   "execution_count": 3,
   "id": "0581e0bb-32f4-4a3b-a573-2b348d895269",
   "metadata": {},
   "outputs": [],
   "source": [
    "T80S_TZ = ZoneInfo('America/Santiago')\n",
    "UTC_TZ = timezone.utc\n",
    "T80S_LAT = '-30.1678638889 degrees'\n",
    "T80S_LON = '-70.8056888889 degrees'\n",
    "T80S_HEI = 2187\n",
    "t80s_lat = Angle(T80S_LAT, 'deg')\n",
    "t80s_lon = Angle(T80S_LON, 'deg')\n",
    "t80s_hei = T80S_HEI*u.m\n",
    "t80s_EL = EarthLocation(lat=t80s_lat, lon=t80s_lon, height=t80s_hei)"
   ]
  },
  {
   "cell_type": "code",
   "execution_count": 4,
   "id": "a7ca698c-9617-411d-97ba-5eeebcf615cf",
   "metadata": {},
   "outputs": [],
   "source": [
    "# DATETIME\n",
    "dt_obs = datetime.fromisoformat(observation_night +' 23:59:59.000+00:00')\n",
    "t80s_dt = dt_obs.astimezone(T80S_TZ)\n",
    "t80s_midnight = t80s_dt - t80s_dt.utcoffset()\n",
    "t80s_Time = Time(t80s_midnight, location=t80s_EL)"
   ]
  },
  {
   "cell_type": "code",
   "execution_count": 5,
   "id": "305c5d33-5e61-4ae4-b487-686960afc8f1",
   "metadata": {},
   "outputs": [],
   "source": [
    "# OBSERVER\n",
    "t80s_obs = Observer(location=t80s_EL, timezone=T80S_TZ)\n",
    "t80s_Time_mn = t80s_obs.midnight(t80s_Time)"
   ]
  },
  {
   "cell_type": "code",
   "execution_count": 6,
   "id": "5ba8fa1f-5927-4612-a466-e94077dd070c",
   "metadata": {},
   "outputs": [],
   "source": [
    "moon_illum = t80s_obs.moon_illumination(t80s_Time_mn)\n",
    "twilight_morning = t80s_obs.twilight_morning_astronomical(t80s_Time, which='nearest').datetime \n",
    "twilight_evening = t80s_obs.twilight_evening_astronomical(t80s_Time, which='nearest').datetime \n",
    "night_duration = (twilight_morning - twilight_evening).total_seconds()/3600\n",
    "lst_even = t80s_obs.local_sidereal_time(twilight_evening)\n",
    "lst_morn = t80s_obs.local_sidereal_time(twilight_morning)"
   ]
  },
  {
   "cell_type": "code",
   "execution_count": 7,
   "id": "75c27e79-11a0-4f47-aee8-b44ad6c9fef2",
   "metadata": {},
   "outputs": [
    {
     "name": "stdout",
     "output_type": "stream",
     "text": [
      "Evening twilight:\n",
      "\tDATETIME (UTC): 2023-01-02 01:24:23.207661\n",
      "\tLST: 3h26m53.51370626s\n",
      "Morning twilight:\n",
      "\tDATETIME (UTC): 2023-01-02 08:09:41.051338\n",
      "\tLST: 10h13m17.93840116s\n",
      "Night duration: 6.75 hours\n",
      "Moon illumination: 0.8032\n",
      "Moon illumination: 80.32%\n",
      "Night duration: 6.75 hours\n"
     ]
    }
   ],
   "source": [
    "# Final DIGEST\n",
    "print(f'Evening twilight:')\n",
    "print(f'\\tDATETIME (UTC):', twilight_evening)\n",
    "print(f'\\tLST:', lst_even)\n",
    "print(f'Morning twilight:')\n",
    "print(f'\\tDATETIME (UTC):', twilight_morning)\n",
    "print(f'\\tLST:', lst_morn)\n",
    "print(f'Night duration: {night_duration:.2f} hours')\n",
    "print(f'Moon illumination: {moon_illum:.4f}')\n",
    "print(f'Night duration: {night_duration:.2f} hours')"
   ]
  }
 ],
 "metadata": {
  "kernelspec": {
   "display_name": "Python 3 (ipykernel)",
   "language": "python",
   "name": "python3"
  },
  "language_info": {
   "codemirror_mode": {
    "name": "ipython",
    "version": 3
   },
   "file_extension": ".py",
   "mimetype": "text/x-python",
   "name": "python",
   "nbconvert_exporter": "python",
   "pygments_lexer": "ipython3",
   "version": "3.10.6"
  }
 },
 "nbformat": 4,
 "nbformat_minor": 5
}
